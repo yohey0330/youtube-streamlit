{
 "cells": [
  {
   "cell_type": "code",
   "execution_count": 48,
   "metadata": {},
   "outputs": [
    {
     "name": "stdout",
     "output_type": "stream",
     "text": [
      "何回サイコロを振りますか？：2000\n",
      "317\n",
      "0.1585\n",
      "-1.0000417560512729\n",
      "このサイコロは1の出やすさに関して歪んでいる、とは言い切れない。\n"
     ]
    }
   ],
   "source": [
    "#サイコロの１の目が出やすいかどうか検定する\n",
    "import numpy as np\n",
    "import matplotlib.pyplot as plt\n",
    "import random\n",
    "import math\n",
    "import pandas as pd\n",
    "\n",
    "n = input('何回サイコロを振りますか？：')\n",
    "n = int(n)\n",
    "\n",
    "p_0 = 1/6\n",
    "\n",
    "saikoro = list(range(1, 7, 1))\n",
    "l = random.choices(saikoro, k=n)\n",
    "#print(l)\n",
    "some = l.count(1)\n",
    "print(some)\n",
    "p = some/n\n",
    "print(p)\n",
    "z = (p - p_0)/(math.sqrt((p*(1-p))/n))\n",
    "print(z)\n",
    "if z<-1.96 or 1.96<z:\n",
    "    print('このサイコロは1の出やすさに関して歪んでいる。')\n",
    "else:\n",
    "    print('このサイコロは1の出やすさに関して歪んでいる、とは言い切れない。')"
   ]
  },
  {
   "cell_type": "code",
   "execution_count": 2,
   "metadata": {},
   "outputs": [
    {
     "name": "stdout",
     "output_type": "stream",
     "text": [
      "何回サイコロを振りますか？：12000\n",
      "サンプル数はいくつにしますか？1000\n",
      "-結果-\n",
      "歪とは言い切れないサイコロの個数は 1000 個中 951 個でした。\n",
      "歪なサイコロの個数は 1000 個中 49 個でした。\n"
     ]
    }
   ],
   "source": [
    "#サイコロの１の目が出やすいかどうか検定して、それを集計する\n",
    "import numpy as np\n",
    "import matplotlib.pyplot as plt\n",
    "import random\n",
    "import math\n",
    "import pandas as pd\n",
    "\n",
    "n = input('何回サイコロを振りますか？：')\n",
    "n = int(n)\n",
    "sample = input('サンプル数はいくつにしますか？')\n",
    "sample = int(sample)\n",
    "\n",
    "p_0 = 1/6\n",
    "\n",
    "i = 1\n",
    "a = 0\n",
    "b = 0\n",
    "while i <= sample:\n",
    "    saikoro = list(range(1, 7, 1))\n",
    "    l = random.choices(saikoro, k=n)\n",
    "    some = l.count(1)\n",
    "    #print(some)\n",
    "    p = some/n\n",
    "    #print(p)\n",
    "    z = (p - p_0)/(math.sqrt((p*(1-p))/n))\n",
    "    #print(z)\n",
    "    if z<-1.96 or 1.96<z:\n",
    "        #print('このサイコロは1の出やすさに関して歪んでいる。')\n",
    "        a += 1\n",
    "    else:\n",
    "        #print('このサイコロは1の出やすさに関して歪んでいる、とは言い切れない。')\n",
    "        b += 1\n",
    "    i += 1\n",
    "\n",
    "print('-結果-')\n",
    "print('歪とは言い切れないサイコロの個数は '+ str(sample) +' 個中 '+ str(b) +' 個でした。')\n",
    "print('歪なサイコロの個数は '+ str(sample) +' 個中 '+ str(a) +' 個でした。')"
   ]
  },
  {
   "cell_type": "code",
   "execution_count": null,
   "metadata": {},
   "outputs": [],
   "source": []
  }
 ],
 "metadata": {
  "kernelspec": {
   "display_name": "Python 3",
   "language": "python",
   "name": "python3"
  },
  "language_info": {
   "codemirror_mode": {
    "name": "ipython",
    "version": 3
   },
   "file_extension": ".py",
   "mimetype": "text/x-python",
   "name": "python",
   "nbconvert_exporter": "python",
   "pygments_lexer": "ipython3",
   "version": "3.8.5"
  }
 },
 "nbformat": 4,
 "nbformat_minor": 4
}
