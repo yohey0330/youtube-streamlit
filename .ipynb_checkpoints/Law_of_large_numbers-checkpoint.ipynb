{
 "cells": [
  {
   "cell_type": "code",
   "execution_count": 2,
   "metadata": {},
   "outputs": [
    {
     "name": "stdout",
     "output_type": "stream",
     "text": [
      "何回サイコロを振りますか？：600\n",
      "101\n",
      "94\n",
      "95\n",
      "109\n",
      "109\n",
      "92\n"
     ]
    }
   ],
   "source": [
    "#サイコロを振ってカウントする\n",
    "import random\n",
    "\n",
    "k = input('何回サイコロを振りますか？：')\n",
    "k = int(k)\n",
    "\n",
    "l = []\n",
    "i = len(l)\n",
    "\n",
    "while i < k:\n",
    "    r = random.randint(1, 6)\n",
    "    l = l + [r]\n",
    "    i = len(l)\n",
    "    \n",
    "one = l.count(1)\n",
    "two = l.count(2)\n",
    "three = l.count(3)\n",
    "four = l.count(4)\n",
    "five = l.count(5)\n",
    "six = l.count(6)\n",
    "#s = one + two + three + four + five + six\n",
    "\n",
    "print(one)\n",
    "print(two)\n",
    "print(three)\n",
    "print(four)\n",
    "print(five)\n",
    "print(six)\n",
    "#print(s)"
   ]
  },
  {
   "cell_type": "code",
   "execution_count": 3,
   "metadata": {},
   "outputs": [
    {
     "name": "stdout",
     "output_type": "stream",
     "text": [
      "何回サイコロを振りますか？：600\n",
      "0.145\n",
      "0.16333333333333333\n",
      "0.15333333333333332\n",
      "0.155\n",
      "0.18166666666666667\n",
      "0.20166666666666666\n"
     ]
    }
   ],
   "source": [
    "#サイコロを振って確率を求める\n",
    "import random\n",
    "\n",
    "k = input('何回サイコロを振りますか？：')\n",
    "k = int(k)\n",
    "\n",
    "l = []\n",
    "i = len(l)\n",
    "\n",
    "while i < k:\n",
    "    r = random.randint(1, 6)\n",
    "    l = l + [r]\n",
    "    i = len(l)\n",
    "    \n",
    "one = l.count(1)/k\n",
    "two = l.count(2)/k\n",
    "three = l.count(3)/k\n",
    "four = l.count(4)/k\n",
    "five = l.count(5)/k\n",
    "six = l.count(6)/k\n",
    "#s = one + two + three + four + five + six\n",
    "\n",
    "print(one)\n",
    "print(two)\n",
    "print(three)\n",
    "print(four)\n",
    "print(five)\n",
    "print(six)\n",
    "#print(s)"
   ]
  },
  {
   "cell_type": "code",
   "execution_count": 3,
   "metadata": {},
   "outputs": [
    {
     "name": "stdout",
     "output_type": "stream",
     "text": [
      "何回サイコロを振りますか？：1000\n",
      "3.49\n"
     ]
    },
    {
     "data": {
      "image/png": "[encoded data removed]",
      "text/plain": [
       "<Figure size 432x288 with 1 Axes>"
      ]
     },
     "metadata": {
      "needs_background": "light"
     },
     "output_type": "display_data"
    }
   ],
   "source": [
    "#サイコロを振って期待値のグラフをプロットする\n",
    "import numpy as np\n",
    "import matplotlib.pylab as plt\n",
    "import random\n",
    "\n",
    "k = input('何回サイコロを振りますか？：')\n",
    "k = int(k)\n",
    "\n",
    "l = []\n",
    "a = []\n",
    "i = len(l)\n",
    "\n",
    "while i < k:\n",
    "    r = random.randint(1, 6)\n",
    "    l = l + [r]\n",
    "    i = len(l)\n",
    "    average = sum(l) / i\n",
    "    a = a + [average]\n",
    "\n",
    "print(average)\n",
    "    \n",
    "x =  np.arange(0, k, 1)\n",
    "\n",
    "fig = plt.figure()\n",
    "ax = fig.add_subplot(1, 1, 1)\n",
    "\n",
    "ax.plot(x, a, label='n='+str(k))\n",
    "plt.hlines(3.5, 0, k, 'r', linestyles='dashed')\n",
    "\n",
    "ax.legend()\n",
    "ax.set_xlabel(\"n\")\n",
    "ax.set_ylabel(\"Average\")\n",
    "ax.set_ylim(0, 6)\n",
    "\n",
    "plt.show()"
   ]
  },
  {
   "cell_type": "code",
   "execution_count": null,
   "metadata": {},
   "outputs": [],
   "source": []
  }
 ],
 "metadata": {
  "kernelspec": {
   "display_name": "Python 3",
   "language": "python",
   "name": "python3"
  },
  "language_info": {
   "codemirror_mode": {
    "name": "ipython",
    "version": 3
   },
   "file_extension": ".py",
   "mimetype": "text/x-python",
   "name": "python",
   "nbconvert_exporter": "python",
   "pygments_lexer": "ipython3",
   "version": "3.8.5"
  }
 },
 "nbformat": 4,
 "nbformat_minor": 4
}
