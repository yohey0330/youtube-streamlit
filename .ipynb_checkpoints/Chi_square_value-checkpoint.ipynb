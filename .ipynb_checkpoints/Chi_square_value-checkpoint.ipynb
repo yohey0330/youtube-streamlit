{
 "cells": [
  {
   "cell_type": "code",
   "execution_count": 10,
   "metadata": {},
   "outputs": [
    {
     "name": "stdout",
     "output_type": "stream",
     "text": [
      "何個の球を取りますか？：100\n",
      "サンプル数はいくつにしますか？：1000\n"
     ]
    },
    {
     "data": {
      "image/png": "[encoded data removed]",
      "text/plain": [
       "<Figure size 432x288 with 1 Axes>"
      ]
     },
     "metadata": {
      "needs_background": "light"
     },
     "output_type": "display_data"
    }
   ],
   "source": [
    "#カイ二乗分布とは何か？（自由度１の場合）\n",
    "import numpy as np\n",
    "import matplotlib.pyplot as plt\n",
    "import random\n",
    "import math\n",
    "import pandas as pd\n",
    "\n",
    "def chi(v, t):\n",
    "    return (np.exp(-t/2)*(t**(v/2-1)))/((2**(v/2))*math.gamma(v/2))\n",
    "\n",
    "some = input('何個の球を取りますか？：')\n",
    "sample = input('サンプル数はいくつにしますか？：')\n",
    "some = int(some)\n",
    "sample = int(sample)\n",
    "\n",
    "a = []\n",
    "j = len(a)\n",
    "\n",
    "while j < sample:\n",
    "    l = [0, 1]\n",
    "    l0_1 = random.choices(l, k=some)\n",
    "    some1 = l0_1.count(1)\n",
    "    some0 = some - some1\n",
    "    #print(some1)\n",
    "    #print(some0)\n",
    "    l2 = [some1, some0]\n",
    "    l3 = []\n",
    "    for n in l2:\n",
    "        l3.append((n - float(some/2))**2)\n",
    "    d = sum(l3)/(some/2)\n",
    "    a = a + [d]\n",
    "    j = len(a)\n",
    "\n",
    "data = pd.Series(a)\n",
    "# print(data.describe())\n",
    "\n",
    "# range_data = max(data)-min(data)\n",
    "# print(range_data)\n",
    "\n",
    "plt.hist(data);"
   ]
  },
  {
   "cell_type": "code",
   "execution_count": 32,
   "metadata": {
    "scrolled": false
   },
   "outputs": [
    {
     "name": "stdout",
     "output_type": "stream",
     "text": [
      "自由度はいくつですか？：5\n",
      "何個の球を取りますか？：100\n",
      "サンプル数はいくつにしますか？：1000\n",
      "16.666666666666668\n"
     ]
    },
    {
     "data": {
      "image/png": "[encoded data removed]",
      "text/plain": [
       "<Figure size 432x288 with 1 Axes>"
      ]
     },
     "metadata": {
      "needs_background": "light"
     },
     "output_type": "display_data"
    }
   ],
   "source": [
    "#カイ二乗分布とは何か？（自由度ｋの場合）①\n",
    "import numpy as np\n",
    "import matplotlib.pyplot as plt\n",
    "import random\n",
    "import math\n",
    "import pandas as pd\n",
    "\n",
    "def chi(v, t):\n",
    "    return (np.exp(-t/2)*(t**(v/2-1)))/((2**(v/2))*math.gamma(v/2))\n",
    "\n",
    "free = input('自由度はいくつですか？：')\n",
    "some = input('何個の球を取りますか？：')\n",
    "sample = input('サンプル数はいくつにしますか？：')\n",
    "free = int(free)+1\n",
    "some = int(some)\n",
    "sample = int(sample)\n",
    "\n",
    "a = []\n",
    "j = len(a)\n",
    "\n",
    "l = list(range(0, free, 1))\n",
    "ave = some/free #母平均！！\n",
    "print(ave)\n",
    "lis = list(range(0, some+1, 1))\n",
    "li = []\n",
    "for n in lis:\n",
    "    li.append((n - ave)**2)\n",
    "#print(li)\n",
    "#de = sum(li)/len(li)\n",
    "#print(de)\n",
    "\n",
    "while j < sample:\n",
    "    l0_fr = random.choices(l, k=some)\n",
    "    #print(l0_fr)\n",
    "    l2 = []\n",
    "    i = 0\n",
    "    while i < free:\n",
    "        s = l0_fr.count(i)\n",
    "        l2.append(s)\n",
    "        i += 1\n",
    "    #print(l2)\n",
    "    l3 = []\n",
    "    for n in l2:\n",
    "        l3.append(((n - ave)**2)/ave) #なぜ平均で割る？？しかし、分布は綺麗←カイ二乗値と呼ぶ！！\n",
    "    d = sum(l3)\n",
    "    a = a + [d]\n",
    "    j = len(a)\n",
    "    l2 = []\n",
    "\n",
    "#print(a)\n",
    "\n",
    "data = pd.Series(a)\n",
    "#print(data.describe())\n",
    "\n",
    "# range_data = max(data)-min(data)\n",
    "# print(range_data)\n",
    "plt.ylim(0, sample)\n",
    "plt.hist(data, bins=list(range(0, 15, 1)));"
   ]
  },
  {
   "cell_type": "code",
   "execution_count": 15,
   "metadata": {},
   "outputs": [
    {
     "name": "stdout",
     "output_type": "stream",
     "text": [
      "自由度はいくつですか？：3\n",
      "何個の球を取りますか？：100\n",
      "サンプル数はいくつにしますか？：100\n",
      "[3.0, 3.0, 3.0, 3.0000000000000004, 3.0, 3.0, 3.0000000000000004, 3.0, 3.0, 3.0, 3.0, 3.0, 3.0, 3.0, 3.0, 3.0000000000000004, 3.0000000000000004, 3.0000000000000004, 3.0, 3.0, 3.0, 3.0, 3.0, 2.9999999999999996, 3.0, 3.0, 3.0000000000000004, 3.0, 3.0, 3.0, 3.0, 3.0000000000000004, 3.0, 2.9999999999999996, 3.0, 3.0, 3.0, 3.0, 3.0, 3.0, 3.0, 3.0, 3.0000000000000004, 3.0, 2.9999999999999996, 3.0, 3.0, 3.0000000000000004, 3.0, 3.0, 3.0000000000000004, 3.0000000000000004, 3.0, 2.9999999999999996, 3.0, 3.0, 3.0, 3.0, 3.0, 3.0, 3.0, 3.0, 3.0, 3.0, 3.0000000000000004, 3.0000000000000004, 3.0000000000000004, 3.0, 2.9999999999999996, 3.0, 3.0, 3.0000000000000004, 3.0, 3.0000000000000004, 3.0, 3.0, 3.0, 3.0, 3.0, 3.0, 3.0, 3.0, 2.9999999999999996, 3.0, 3.0, 3.0, 3.0000000000000004, 3.0, 3.0, 3.0000000000000004, 2.9999999999999996, 3.0, 3.0, 3.0, 3.0000000000000004, 3.0, 3.0, 3.0, 3.0, 3.0]\n"
     ]
    },
    {
     "data": {
      "image/png": "[encoded data removed]",
      "text/plain": [
       "<Figure size 432x288 with 1 Axes>"
      ]
     },
     "metadata": {
      "needs_background": "light"
     },
     "output_type": "display_data"
    }
   ],
   "source": [
    "#カイ二乗分布とは何か？（自由度ｋの場合）②　間違いです！！\n",
    "import numpy as np\n",
    "import matplotlib.pyplot as plt\n",
    "import random\n",
    "import math\n",
    "import pandas as pd\n",
    "\n",
    "def chi(v, t):\n",
    "    return (np.exp(-t/2)*(t**(v/2-1)))/((2**(v/2))*math.gamma(v/2))\n",
    "\n",
    "free = input('自由度はいくつですか？：')\n",
    "some = input('何個の球を取りますか？：')\n",
    "sample = input('サンプル数はいくつにしますか？：')\n",
    "free = int(free)+1\n",
    "some = int(some)\n",
    "sample = int(sample)\n",
    "\n",
    "a = []\n",
    "j = len(a)\n",
    "\n",
    "l = list(range(0, free, 1))\n",
    "ave = some/free\n",
    "#print(ave)\n",
    "# lis = list(range(0, some+1, 1))\n",
    "# li = []\n",
    "# for n in lis:\n",
    "#     li.append((n - ave)**2)\n",
    "# #print(li)\n",
    "# de = sum(li)/len(li)\n",
    "# print(de)\n",
    "\n",
    "while j < sample:\n",
    "    l0_fr = random.choices(l, k=some)\n",
    "    #print(l0_fr)\n",
    "    l2 = []\n",
    "    i = 0\n",
    "    while i < free:\n",
    "        s = l0_fr.count(i)\n",
    "        l2.append(s)\n",
    "        i += 1\n",
    "    #print(l2)\n",
    "    l3 = []\n",
    "    for n in l2:\n",
    "        l3.append(((n - ave)**2)/free)\n",
    "    #print(l3)\n",
    "    de = sum(l3)\n",
    "    l4 = []\n",
    "    for n in l2:\n",
    "        l4.append(((n - ave)**2)/de)\n",
    "    #print(l4)\n",
    "    chi = sum(l4)\n",
    "    #print(chi)\n",
    "    a = a + [chi]\n",
    "    j = len(a)\n",
    "\n",
    "#print(a)\n",
    "\n",
    "data = pd.Series(a)\n",
    "#print(data.describe())\n",
    "\n",
    "# range_data = max(data)-min(data)\n",
    "# print(range_data)\n",
    "\n",
    "plt.hist(data, bins=10);"
   ]
  },
  {
   "cell_type": "code",
   "execution_count": 18,
   "metadata": {},
   "outputs": [
    {
     "name": "stdout",
     "output_type": "stream",
     "text": [
      "何回サイコロを振りますか？：10\n",
      "サンプル数はいくつにしますか？：100\n",
      "[1, 2, 3, 4, 5, 6]\n"
     ]
    },
    {
     "data": {
      "image/png": "[encoded data removed]",
      "text/plain": [
       "<Figure size 432x288 with 1 Axes>"
      ]
     },
     "metadata": {
      "needs_background": "light"
     },
     "output_type": "display_data"
    }
   ],
   "source": [
    "#カイ二乗分布とは何か？（自由度５のサイコロの場合）\n",
    "import numpy as np\n",
    "import matplotlib.pyplot as plt\n",
    "import random\n",
    "import math\n",
    "import pandas as pd\n",
    "\n",
    "def chi(v, t):\n",
    "    return (np.exp(-t/2)*(t**(v/2-1)))/((2**(v/2))*math.gamma(v/2))\n",
    "\n",
    "some = input('何回サイコロを振りますか？：')\n",
    "sample = input('サンプル数はいくつにしますか？：')\n",
    "some = int(some)\n",
    "sample = int(sample)\n",
    "\n",
    "a = []\n",
    "j = len(a)\n",
    "\n",
    "l = list(range(1, 7, 1))\n",
    "print(l)\n",
    "ave = 7/2\n",
    "# lis = list(range(0, some+1, 1))\n",
    "# li = []\n",
    "# for n in lis:\n",
    "#     li.append((n - ave)**2)\n",
    "# #print(li)\n",
    "de = (35*math.sqrt(some))/12\n",
    "\n",
    "while j < sample:\n",
    "    l1_6 = random.choices(l, k=some)\n",
    "#     print(l1_6)\n",
    "    l2 = []\n",
    "    for n in l1_6:\n",
    "        l2.append(((n - ave)**2)/de)\n",
    "#     print(l2)\n",
    "    chi = sum(l2)\n",
    "#     print(chi)\n",
    "    a = a + [chi]\n",
    "    j = len(a)\n",
    "\n",
    "#print(a)\n",
    "\n",
    "data = pd.Series(a)\n",
    "#print(data.describe())\n",
    "\n",
    "# range_data = max(data)-min(data)\n",
    "# print(range_data)\n",
    "\n",
    "plt.hist(data, bins=10);"
   ]
  },
  {
   "cell_type": "code",
   "execution_count": null,
   "metadata": {},
   "outputs": [],
   "source": []
  }
 ],
 "metadata": {
  "kernelspec": {
   "display_name": "Python 3",
   "language": "python",
   "name": "python3"
  },
  "language_info": {
   "codemirror_mode": {
    "name": "ipython",
    "version": 3
   },
   "file_extension": ".py",
   "mimetype": "text/x-python",
   "name": "python",
   "nbconvert_exporter": "python",
   "pygments_lexer": "ipython3",
   "version": "3.8.5"
  }
 },
 "nbformat": 4,
 "nbformat_minor": 4
}
