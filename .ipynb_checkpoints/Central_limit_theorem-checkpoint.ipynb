{
 "cells": [
  {
   "cell_type": "code",
   "execution_count": 22,
   "metadata": {},
   "outputs": [
    {
     "name": "stdout",
     "output_type": "stream",
     "text": [
      "何回サイコロを振りますか？：1000\n",
      "サンプル数はいくつにしますか？：1000\n"
     ]
    },
    {
     "data": {
      "text/plain": [
       "<matplotlib.collections.LineCollection at 0x7fbbba5f0bb0>"
      ]
     },
     "execution_count": 22,
     "metadata": {},
     "output_type": "execute_result"
    },
    {
     "data": {
      "image/png": "[encoded data removed]",
      "text/plain": [
       "<Figure size 432x288 with 1 Axes>"
      ]
     },
     "metadata": {
      "needs_background": "light"
     },
     "output_type": "display_data"
    }
   ],
   "source": [
    "#サイコロを振って期待値を集計し棒グラフにまとめ（階級１〜６）※中心極限定理はわかりやすい\n",
    "import numpy as np\n",
    "import matplotlib.pyplot as plt\n",
    "import random\n",
    "import math\n",
    "\n",
    "\n",
    "k = input('何回サイコロを振りますか？：')\n",
    "s = input('サンプル数はいくつにしますか？：')\n",
    "k = int(k)\n",
    "s = int(s)\n",
    "\n",
    "l = []\n",
    "a = []\n",
    "i = len(l)\n",
    "j = len(a)\n",
    "\n",
    "while j < s:\n",
    "    while i < k:\n",
    "        r = random.randint(1, 6)\n",
    "        l = l + [r]\n",
    "        i = len(l)\n",
    "        #print(l)\n",
    "    average = sum(l) / i\n",
    "    a = a + [average]\n",
    "    j = len(a)\n",
    "    l = []\n",
    "    i = len(l)\n",
    "#print(a)\n",
    "    \n",
    "fig, ax = plt.subplots()\n",
    "ma = max(a)\n",
    "mi = min(a)\n",
    "c = round(1 + math.log2(s))\n",
    "b = round((5*c) / (ma - mi))\n",
    "n, bins, patches  = ax.hist(a, bins=b, range=(1, 6))\n",
    "plt.vlines(3.5, 0, max(n), 'r', linestyles='dashed')\n",
    "#print(n) nは各度数の値（list型）"
   ]
  },
  {
   "cell_type": "code",
   "execution_count": 7,
   "metadata": {},
   "outputs": [
    {
     "name": "stdout",
     "output_type": "stream",
     "text": [
      "何回サイコロを振りますか？：600\n",
      "サンプル数はいくつにしますか？：6000\n"
     ]
    },
    {
     "data": {
      "text/plain": [
       "<matplotlib.collections.LineCollection at 0x7ff7785a7fd0>"
      ]
     },
     "execution_count": 7,
     "metadata": {},
     "output_type": "execute_result"
    },
    {
     "data": {
      "image/png": "[encoded data removed]",
      "text/plain": [
       "<Figure size 432x288 with 1 Axes>"
      ]
     },
     "metadata": {
      "needs_background": "light"
     },
     "output_type": "display_data"
    }
   ],
   "source": [
    "#サイコロを振って期待値を集計し棒グラフにまとめる（階級min〜max）\n",
    "import numpy as np\n",
    "import matplotlib.pyplot as plt\n",
    "import random\n",
    "import math\n",
    "\n",
    "\n",
    "k = input('何回サイコロを振りますか？：')\n",
    "s = input('サンプル数はいくつにしますか？：')\n",
    "k = int(k)\n",
    "s = int(s)\n",
    "\n",
    "l = []\n",
    "a = []\n",
    "i = len(l)\n",
    "j = len(a)\n",
    "\n",
    "while j < s:\n",
    "    while i < k:\n",
    "        r = random.randint(1, 6)\n",
    "        l = l + [r]\n",
    "        i = len(l)\n",
    "        #print(l)\n",
    "    average = sum(l) / i\n",
    "    a = a + [average]\n",
    "    j = len(a)\n",
    "    l = []\n",
    "    i = len(l)\n",
    "#print(a)\n",
    "    \n",
    "fig, ax = plt.subplots()\n",
    "ma = max(a)\n",
    "mi = min(a)\n",
    "c = round(1 + math.log2(s))\n",
    "b = round((c) / (ma - mi))\n",
    "n, bins, patches  = ax.hist(a, bins=b, range=(mi-3/b, ma+3/b))\n",
    "plt.vlines(3.5, 0, max(n), 'r', linestyles='dashed')\n",
    "#print(n) nは各度数の値（list型）"
   ]
  },
  {
   "cell_type": "code",
   "execution_count": 3,
   "metadata": {},
   "outputs": [
    {
     "name": "stdout",
     "output_type": "stream",
     "text": [
      "何回サイコロを振りますか？：1000\n",
      "サンプル数はいくつにしますか？：3000\n"
     ]
    },
    {
     "data": {
      "text/plain": [
       "<matplotlib.collections.LineCollection at 0x7ffafa69da90>"
      ]
     },
     "execution_count": 3,
     "metadata": {},
     "output_type": "execute_result"
    },
    {
     "data": {
      "image/png": "[encoded data removed]",
      "text/plain": [
       "<Figure size 432x288 with 1 Axes>"
      ]
     },
     "metadata": {
      "needs_background": "light"
     },
     "output_type": "display_data"
    }
   ],
   "source": [
    "#サイコロを振って期待値を集計し棒グラフにまとめる（標準正規分布に従うパターン）\n",
    "import numpy as np\n",
    "import matplotlib.pyplot as plt\n",
    "import random\n",
    "import math\n",
    "\n",
    "\n",
    "k = input('何回サイコロを振りますか？：')\n",
    "s = input('サンプル数はいくつにしますか？：')\n",
    "k = int(k)\n",
    "s = int(s)\n",
    "\n",
    "l = []\n",
    "a = []\n",
    "i = len(l)\n",
    "j = len(a)\n",
    "\n",
    "while j < s:\n",
    "    while i < k:\n",
    "        r = random.randint(1, 6)\n",
    "        l = l + [r]\n",
    "        i = len(l)\n",
    "        #print(l)\n",
    "    average = sum(l) / i\n",
    "    a = a + [average]\n",
    "    j = len(a)\n",
    "    l = []\n",
    "    i = len(l)\n",
    "#print(a)\n",
    "\n",
    "v = 35 / 12\n",
    "a2 = list(map(lambda x: x - 3.5, a))\n",
    "a3 = list(map(lambda x: x / math.sqrt(v / k), a2))\n",
    "#print(a3)\n",
    "\n",
    "fig, ax = plt.subplots()\n",
    "ma = max(a3)\n",
    "mi = min(a3)\n",
    "c = round(1 + math.log2(s))\n",
    "n, bins, patches  = ax.hist(a3, bins=2*c, range=(-4, 4))\n",
    "plt.vlines(0, 0, max(n), 'r', linestyles='dashed')\n",
    "#print(n) nは各度数の値（list型）"
   ]
  },
  {
   "cell_type": "code",
   "execution_count": null,
   "metadata": {},
   "outputs": [],
   "source": []
  }
 ],
 "metadata": {
  "kernelspec": {
   "display_name": "Python 3",
   "language": "python",
   "name": "python3"
  },
  "language_info": {
   "codemirror_mode": {
    "name": "ipython",
    "version": 3
   },
   "file_extension": ".py",
   "mimetype": "text/x-python",
   "name": "python",
   "nbconvert_exporter": "python",
   "pygments_lexer": "ipython3",
   "version": "3.8.5"
  }
 },
 "nbformat": 4,
 "nbformat_minor": 4
}
