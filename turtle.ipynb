{
 "cells": [
  {
   "cell_type": "code",
   "execution_count": 1,
   "metadata": {},
   "outputs": [],
   "source": [
    "import turtle\n",
    "\n",
    "turtle.color('red', 'yellow')\n",
    "\n",
    "turtle.begin_fill()\n",
    "for i in range(5 * 3):\n",
    "    turtle.forward(100 + i * 10)\n",
    "    turtle.right(360 / 5 * 2)\n",
    "turtle.end_fill()\n",
    "\n",
    "turtle.done()"
   ]
  },
  {
   "cell_type": "code",
   "execution_count": 6,
   "metadata": {},
   "outputs": [],
   "source": [
    "turtle.pencolor('green')\n",
    "\n",
    "for i in range(60):\n",
    "    turtle.fd(50)\n",
    "    turtle.left(360/3 + 10)\n",
    "\n",
    "turtle.pencolor('red')\n",
    "\n",
    "for i in range(60):\n",
    "    turtle.fd(200)\n",
    "    turtle.left(360/3 + 10)\n",
    "\n",
    "turtle.done()"
   ]
  },
  {
   "cell_type": "code",
   "execution_count": 2,
   "metadata": {},
   "outputs": [],
   "source": [
    "import turtle\n",
    "for i in range(200):\n",
    "    turtle.fd(i)\n",
    "    turtle.left(360 / 4 + 10)\n",
    "    \n",
    "turtle.done()"
   ]
  },
  {
   "cell_type": "code",
   "execution_count": null,
   "metadata": {},
   "outputs": [],
   "source": []
  }
 ],
 "metadata": {
  "kernelspec": {
   "display_name": "Python 3",
   "language": "python",
   "name": "python3"
  },
  "language_info": {
   "codemirror_mode": {
    "name": "ipython",
    "version": 3
   },
   "file_extension": ".py",
   "mimetype": "text/x-python",
   "name": "python",
   "nbconvert_exporter": "python",
   "pygments_lexer": "ipython3",
   "version": "3.8.5"
  }
 },
 "nbformat": 4,
 "nbformat_minor": 4
}
